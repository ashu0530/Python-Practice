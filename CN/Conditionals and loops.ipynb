{
 "cells": [
  {
   "cell_type": "markdown",
   "id": "e3d583e7",
   "metadata": {},
   "source": [
    "# Boolean Data types\n"
   ]
  },
  {
   "cell_type": "code",
   "execution_count": 5,
   "id": "b59097af",
   "metadata": {},
   "outputs": [
    {
     "name": "stdout",
     "output_type": "stream",
     "text": [
      "Ashu\n"
     ]
    },
    {
     "data": {
      "text/plain": [
       "bool"
      ]
     },
     "execution_count": 5,
     "metadata": {},
     "output_type": "execute_result"
    }
   ],
   "source": [
    "a = True  #Reserve keyword\n",
    "b = False\n",
    "\n",
    "c = \"Ashu\"\n",
    "print(c)\n",
    "type(a)"
   ]
  },
  {
   "cell_type": "markdown",
   "id": "89db7952",
   "metadata": {},
   "source": [
    "### Relational Operators"
   ]
  },
  {
   "cell_type": "code",
   "execution_count": 7,
   "id": "223b7928",
   "metadata": {},
   "outputs": [
    {
     "name": "stdout",
     "output_type": "stream",
     "text": [
      "False\n",
      "True\n",
      "False\n",
      "True\n",
      "False\n",
      "True\n"
     ]
    }
   ],
   "source": [
    "a = 10\n",
    "b = 20\n",
    "print (a>b)\n",
    "print (a<b)\n",
    "print (a>=b)\n",
    "print (a<=b)\n",
    "print (a==b) \n",
    "print (a != b)"
   ]
  },
  {
   "cell_type": "markdown",
   "id": "58f34dd2",
   "metadata": {},
   "source": [
    "### Logical Operators"
   ]
  },
  {
   "cell_type": "code",
   "execution_count": 13,
   "id": "6137c4e7",
   "metadata": {},
   "outputs": [
    {
     "name": "stdout",
     "output_type": "stream",
     "text": [
      "False\n",
      "True\n",
      "True\n"
     ]
    }
   ],
   "source": [
    "c1 = a > 10\n",
    "c2 = b > 10\n",
    "r1= c1 and c2 #both have to be true\n",
    "print(r1)\n",
    "r2= c1 or c2\n",
    "print(r2)\n",
    "r3 = not(c1)\n",
    "print(r3)"
   ]
  },
  {
   "cell_type": "markdown",
   "id": "89291765",
   "metadata": {},
   "source": [
    "# If Else"
   ]
  },
  {
   "cell_type": "code",
   "execution_count": 18,
   "id": "f8ac199e",
   "metadata": {},
   "outputs": [
    {
     "name": "stdout",
     "output_type": "stream",
     "text": [
      "I am inside if\n"
     ]
    }
   ],
   "source": [
    "a = True\n",
    "if a:\n",
    "    print(\"I am inside if\")\n",
    "else:\n",
    "    print(\"I am inside else\")"
   ]
  },
  {
   "cell_type": "code",
   "execution_count": 20,
   "id": "a7c94dbc",
   "metadata": {},
   "outputs": [
    {
     "name": "stdout",
     "output_type": "stream",
     "text": [
      "3\n",
      "odd\n"
     ]
    }
   ],
   "source": [
    "n = int(input())\n",
    "r = n%2\n",
    "is_even = (r == 0)\n",
    "if is_even:\n",
    "    print(\"Even\")\n",
    "else:\n",
    "    print(\"odd\")"
   ]
  },
  {
   "cell_type": "code",
   "execution_count": 21,
   "id": "86d66e2b",
   "metadata": {},
   "outputs": [
    {
     "name": "stdout",
     "output_type": "stream",
     "text": [
      "3\n",
      "odd\n"
     ]
    }
   ],
   "source": [
    "n = int(input())\n",
    "is_even = (n%2 == 0)\n",
    "if is_even:\n",
    "    print(\"Even\")\n",
    "else:\n",
    "    print(\"odd\")"
   ]
  },
  {
   "cell_type": "code",
   "execution_count": 22,
   "id": "9171439e",
   "metadata": {},
   "outputs": [
    {
     "name": "stdout",
     "output_type": "stream",
     "text": [
      "2\n",
      "Even\n"
     ]
    }
   ],
   "source": [
    "n = int(input())\n",
    "if n%2==0:\n",
    "    print(\"Even\")\n",
    "else:\n",
    "    print(\"odd\")"
   ]
  },
  {
   "cell_type": "code",
   "execution_count": 24,
   "id": "45839741",
   "metadata": {},
   "outputs": [
    {
     "name": "stdout",
     "output_type": "stream",
     "text": [
      "3\n"
     ]
    }
   ],
   "source": [
    "n = int(input())\n",
    "is_even = (n%2 == 0)\n",
    "if is_even:\n",
    "    print(\"Even\")\n"
   ]
  },
  {
   "cell_type": "markdown",
   "id": "3d3f50cd",
   "metadata": {},
   "source": [
    "# Relational and logical Operator"
   ]
  },
  {
   "cell_type": "code",
   "execution_count": 27,
   "id": "6b7b3cc2",
   "metadata": {},
   "outputs": [
    {
     "name": "stdout",
     "output_type": "stream",
     "text": [
      "11\n",
      "12\n",
      "Both > 10\n"
     ]
    }
   ],
   "source": [
    "a = int(input())\n",
    "b = int(input())\n",
    "\n",
    "c1 = a > 10\n",
    "c2 = b > 10\n",
    "\n",
    "r = c1 and c2\n",
    "if r:\n",
    "    print(\"Both > 10\")\n",
    "else:\n",
    "    print(\"They are not\")"
   ]
  },
  {
   "cell_type": "code",
   "execution_count": 28,
   "id": "3efb9b7f",
   "metadata": {},
   "outputs": [
    {
     "name": "stdout",
     "output_type": "stream",
     "text": [
      "10\n",
      "120\n",
      "They are not\n"
     ]
    }
   ],
   "source": [
    "a = int(input())\n",
    "b = int(input())\n",
    "\n",
    "if a > 10 and b > 10:\n",
    "    print(\"Both > 10\")\n",
    "else:\n",
    "    print(\"They are not\")"
   ]
  },
  {
   "cell_type": "code",
   "execution_count": 32,
   "id": "e349c71a",
   "metadata": {},
   "outputs": [
    {
     "name": "stdout",
     "output_type": "stream",
     "text": [
      "7\n",
      "it is 7\n"
     ]
    }
   ],
   "source": [
    "a = int(input())\n",
    "if a == 7:\n",
    "    print(\"it is 7\")\n",
    "else:\n",
    "    print(\"not 7\")"
   ]
  },
  {
   "cell_type": "code",
   "execution_count": 4,
   "id": "a01508f3",
   "metadata": {},
   "outputs": [
    {
     "name": "stdout",
     "output_type": "stream",
     "text": [
      "3\n",
      "3\n",
      "1\n",
      "a is largest 3\n"
     ]
    }
   ],
   "source": [
    "# 3 numbers which is largest'\n",
    "a = int(input())\n",
    "b = int(input())\n",
    "c = int(input())\n",
    "\n",
    "if a >= b and a >= c:\n",
    "    print ( \"a is largest\", a)\n",
    "elif  b > a and b > c:\n",
    "    print (\"b is largest\", b)\n",
    "else:\n",
    "    print (\"c is largest\")"
   ]
  },
  {
   "cell_type": "markdown",
   "id": "cd330677",
   "metadata": {},
   "source": [
    "# Elif\n"
   ]
  },
  {
   "cell_type": "code",
   "execution_count": 11,
   "id": "ef9bc200",
   "metadata": {},
   "outputs": [
    {
     "name": "stdout",
     "output_type": "stream",
     "text": [
      "5\n",
      "green\n"
     ]
    }
   ],
   "source": [
    "n = int(input())\n",
    "if n > 10:\n",
    "    print(\"red\")\n",
    "elif n >=5 and  n<=10:\n",
    "    print(\"green\")\n",
    "elif n > 0 and n < 5:\n",
    "    print(\"yello\")"
   ]
  },
  {
   "cell_type": "markdown",
   "id": "f19985b6",
   "metadata": {},
   "source": [
    "# Nested Conditions"
   ]
  },
  {
   "cell_type": "code",
   "execution_count": 12,
   "id": "3439eaa7",
   "metadata": {},
   "outputs": [
    {
     "name": "stdout",
     "output_type": "stream",
     "text": [
      "0\n",
      "n is even\n",
      "N is zero\n"
     ]
    }
   ],
   "source": [
    "n  = int(input())\n",
    "if n % 2 == 0:\n",
    "    print(\"n is even\")\n",
    "    if n ==0:\n",
    "        print(\"N is zero\")\n",
    "else:\n",
    "    print(\"n is odd\")"
   ]
  },
  {
   "cell_type": "code",
   "execution_count": 14,
   "id": "b3699a3f",
   "metadata": {},
   "outputs": [
    {
     "name": "stdout",
     "output_type": "stream",
     "text": [
      "9\n",
      "9\n",
      "3\n"
     ]
    }
   ],
   "source": [
    "n = int(input())\n",
    "m = int(input())\n",
    "\n",
    "if n % 2 == 0:\n",
    "    if m % 2 ==0:\n",
    "        print(1)\n",
    "    else:\n",
    "        print(2)\n",
    "else: \n",
    "    print(3)"
   ]
  },
  {
   "cell_type": "code",
   "execution_count": 15,
   "id": "3b9f3a90",
   "metadata": {},
   "outputs": [
    {
     "name": "stdout",
     "output_type": "stream",
     "text": [
      "B\n"
     ]
    }
   ],
   "source": [
    "if True or True:\n",
    "    if False and True or False:\n",
    "        print('A')\n",
    "    elif False and False or True and True:\n",
    "        print(\"B\")\n",
    "    else:\n",
    "        print(\"C\")\n",
    "else:\n",
    "    print(\"D\")"
   ]
  },
  {
   "cell_type": "markdown",
   "id": "40a369fb",
   "metadata": {},
   "source": [
    "# While Loop"
   ]
  },
  {
   "cell_type": "code",
   "execution_count": 17,
   "id": "465e940f",
   "metadata": {},
   "outputs": [
    {
     "name": "stdout",
     "output_type": "stream",
     "text": [
      "4\n",
      "1\n",
      "1\n",
      "1\n",
      "1\n"
     ]
    }
   ],
   "source": [
    "n = int(input())\n",
    "count = 1\n",
    "while count <= n:\n",
    "    print(1)\n",
    "    count = count+1"
   ]
  },
  {
   "cell_type": "code",
   "execution_count": 19,
   "id": "4d2ab7be",
   "metadata": {},
   "outputs": [
    {
     "name": "stdout",
     "output_type": "stream",
     "text": [
      "10\n",
      "1\n",
      "2\n",
      "3\n",
      "4\n",
      "5\n",
      "6\n",
      "7\n",
      "8\n",
      "9\n",
      "10\n"
     ]
    }
   ],
   "source": [
    "# print first n natural number\n",
    "n = int(input())\n",
    "count = 1\n",
    "while count <= n:\n",
    "    print(count)\n",
    "    count = count+1"
   ]
  },
  {
   "cell_type": "code",
   "execution_count": 24,
   "id": "7f110ad4",
   "metadata": {},
   "outputs": [
    {
     "name": "stdout",
     "output_type": "stream",
     "text": [
      "10\n",
      "55\n"
     ]
    }
   ],
   "source": [
    "#sum of all natural numbers\n",
    "\n",
    "n = int(input())\n",
    "count = 1\n",
    "sum = 0\n",
    "while ( count <=n):\n",
    "    sum = sum+count\n",
    "    count = count+1\n",
    "print(sum)\n",
    "    \n",
    "    "
   ]
  },
  {
   "cell_type": "code",
   "execution_count": 4,
   "id": "bcc3916d",
   "metadata": {},
   "outputs": [
    {
     "name": "stdout",
     "output_type": "stream",
     "text": [
      "6\n",
      "12\n"
     ]
    }
   ],
   "source": [
    "# sum of all even numbers\n",
    "n = int(input())\n",
    "count=0\n",
    "evenSum=0\n",
    "while (count<=n):\n",
    "    evenSum = evenSum+count\n",
    "    count+=2\n",
    "print(evenSum)\n"
   ]
  },
  {
   "cell_type": "code",
   "execution_count": null,
   "id": "73c0c623",
   "metadata": {},
   "outputs": [],
   "source": []
  }
 ],
 "metadata": {
  "kernelspec": {
   "display_name": "Python 3 (ipykernel)",
   "language": "python",
   "name": "python3"
  },
  "language_info": {
   "codemirror_mode": {
    "name": "ipython",
    "version": 3
   },
   "file_extension": ".py",
   "mimetype": "text/x-python",
   "name": "python",
   "nbconvert_exporter": "python",
   "pygments_lexer": "ipython3",
   "version": "3.9.13"
  }
 },
 "nbformat": 4,
 "nbformat_minor": 5
}
