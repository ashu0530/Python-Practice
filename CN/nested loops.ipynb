{
 "cells": [
  {
   "cell_type": "markdown",
   "id": "5c69058d",
   "metadata": {},
   "source": [
    "## Check n is prime\n",
    "## print all prime numbers between  2 to n -> \n",
    "\n",
    "  2 to n   2 -----k ------n is k is prime or not "
   ]
  },
  {
   "cell_type": "code",
   "execution_count": 1,
   "id": "2eeb6f00",
   "metadata": {},
   "outputs": [
    {
     "name": "stdout",
     "output_type": "stream",
     "text": [
      "100\n",
      "2\n",
      "3\n",
      "5\n",
      "7\n",
      "11\n",
      "13\n",
      "17\n",
      "19\n",
      "23\n",
      "29\n",
      "31\n",
      "37\n",
      "41\n",
      "43\n",
      "47\n",
      "53\n",
      "59\n",
      "61\n",
      "67\n",
      "71\n",
      "73\n",
      "79\n",
      "83\n",
      "89\n",
      "97\n"
     ]
    }
   ],
   "source": [
    "n = int(input())\n",
    "k = 2\n",
    "while k <= n:   \n",
    "    d = 2\n",
    "    flag = False\n",
    "    while d < k:\n",
    "        if (k % d == 0):\n",
    "            flag = True\n",
    "        d = d + 1\n",
    "    if not (flag):\n",
    "        print(k)\n",
    "    k = k + 1"
   ]
  },
  {
   "cell_type": "markdown",
   "id": "c1d3f8ea",
   "metadata": {},
   "source": [
    "# How this code is working\n",
    "n = 10\n",
    "k = 2 which goes till 2 to 10 as while k<=n\n",
    "  below while we checking k is prime or not"
   ]
  },
  {
   "cell_type": "code",
   "execution_count": 2,
   "id": "ad100205",
   "metadata": {},
   "outputs": [
    {
     "data": {
      "text/plain": [
       "-18"
      ]
     },
     "execution_count": 2,
     "metadata": {},
     "output_type": "execute_result"
    }
   ],
   "source": [
    "-32 * 5//9"
   ]
  },
  {
   "cell_type": "code",
   "execution_count": null,
   "id": "434f68a2",
   "metadata": {},
   "outputs": [],
   "source": []
  }
 ],
 "metadata": {
  "kernelspec": {
   "display_name": "Python 3 (ipykernel)",
   "language": "python",
   "name": "python3"
  },
  "language_info": {
   "codemirror_mode": {
    "name": "ipython",
    "version": 3
   },
   "file_extension": ".py",
   "mimetype": "text/x-python",
   "name": "python",
   "nbconvert_exporter": "python",
   "pygments_lexer": "ipython3",
   "version": "3.9.13"
  }
 },
 "nbformat": 4,
 "nbformat_minor": 5
}
