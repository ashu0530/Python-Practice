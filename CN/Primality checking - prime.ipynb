{
 "cells": [
  {
   "cell_type": "markdown",
   "id": "3619e4dc",
   "metadata": {},
   "source": [
    "### 7 divide by 7 and 1 remainder = 0 3,5,7,11,13"
   ]
  },
  {
   "cell_type": "code",
   "execution_count": 2,
   "id": "ab23e470",
   "metadata": {},
   "outputs": [
    {
     "name": "stdout",
     "output_type": "stream",
     "text": [
      "4\n",
      "Not Prime\n"
     ]
    }
   ],
   "source": [
    "n = int(input())\n",
    "d = 2\n",
    "flag = False #its not dividing by anything yet\n",
    "\n",
    "while d < n:\n",
    "    if ( n%d == 0):\n",
    "        flag = True #as soon as you find something which divide n flag be True\n",
    "    d = d+1\n",
    "if flag: # means found true\n",
    "    print(\"Not Prime\")\n",
    "else:\n",
    "    print(\"Prime\")\n",
    "    "
   ]
  },
  {
   "cell_type": "code",
   "execution_count": null,
   "id": "26c58ea4",
   "metadata": {},
   "outputs": [],
   "source": []
  }
 ],
 "metadata": {
  "kernelspec": {
   "display_name": "Python 3 (ipykernel)",
   "language": "python",
   "name": "python3"
  },
  "language_info": {
   "codemirror_mode": {
    "name": "ipython",
    "version": 3
   },
   "file_extension": ".py",
   "mimetype": "text/x-python",
   "name": "python",
   "nbconvert_exporter": "python",
   "pygments_lexer": "ipython3",
   "version": "3.9.13"
  }
 },
 "nbformat": 4,
 "nbformat_minor": 5
}
